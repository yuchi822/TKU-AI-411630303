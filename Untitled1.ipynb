{
  "nbformat": 4,
  "nbformat_minor": 0,
  "metadata": {
    "colab": {
      "provenance": [],
      "authorship_tag": "ABX9TyNUd83AFMQRjSZcZb4Pt0x5",
      "include_colab_link": true
    },
    "kernelspec": {
      "name": "python3",
      "display_name": "Python 3"
    },
    "language_info": {
      "name": "python"
    }
  },
  "cells": [
    {
      "cell_type": "markdown",
      "metadata": {
        "id": "view-in-github",
        "colab_type": "text"
      },
      "source": [
        "<a href=\"https://colab.research.google.com/github/yuchi822/TKU-AI-411630303/blob/main/Untitled1.ipynb\" target=\"_parent\"><img src=\"https://colab.research.google.com/assets/colab-badge.svg\" alt=\"Open In Colab\"/></a>"
      ]
    },
    {
      "cell_type": "code",
      "source": [
        "test2 = int(input(\"請輸入國文成績\"))\n",
        "test3 = int(input(\"請輸入英文成績\"))\n",
        "test4 = int(input(\"請輸入數學成績\"))\n",
        "print(\"你的成績總分為:\")\n",
        "test2 + test3 + test4"
      ],
      "metadata": {
        "id": "mEYsxp8ktUeS",
        "colab": {
          "base_uri": "https://localhost:8080/"
        },
        "outputId": "67840a03-39b7-46b2-cd8a-79635a631064"
      },
      "execution_count": 4,
      "outputs": [
        {
          "output_type": "stream",
          "name": "stdout",
          "text": [
            "請輸入國文成績50\n",
            "請輸入英文成績60\n",
            "請輸入數學成績70\n",
            "你的成績總分為:\n"
          ]
        },
        {
          "output_type": "execute_result",
          "data": {
            "text/plain": [
              "180"
            ]
          },
          "metadata": {},
          "execution_count": 4
        }
      ]
    },
    {
      "cell_type": "code",
      "source": [
        "a = int(input(\"請輸入梯形上底長度:\"))\n",
        "b = int(input(\"請輸入梯形下底長度:\"))\n",
        "c = int(input(\"請輸入梯形的高度:\"))\n",
        "d = (a + b) *c/2\n",
        "print(\"梯形面積為:\"+str(d))"
      ],
      "metadata": {
        "colab": {
          "base_uri": "https://localhost:8080/"
        },
        "id": "9xQZ9S5Du6r-",
        "outputId": "044dbe56-79c4-4c13-d6a4-57aa430ee7fb"
      },
      "execution_count": 9,
      "outputs": [
        {
          "output_type": "stream",
          "name": "stdout",
          "text": [
            "請輸入梯形上底長度:3\n",
            "請輸入梯形下底長度:4\n",
            "請輸入梯形的高度:3\n",
            "梯形面積為:10.5\n"
          ]
        }
      ]
    },
    {
      "cell_type": "code",
      "source": [],
      "metadata": {
        "id": "GqR2iIjkwiwy"
      },
      "execution_count": null,
      "outputs": []
    }
  ]
}