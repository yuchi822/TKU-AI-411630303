{
  "nbformat": 4,
  "nbformat_minor": 0,
  "metadata": {
    "colab": {
      "provenance": [],
      "authorship_tag": "ABX9TyOEtGuGBDGV5jh8DQfX+Zwm",
      "include_colab_link": true
    },
    "kernelspec": {
      "name": "python3",
      "display_name": "Python 3"
    },
    "language_info": {
      "name": "python"
    }
  },
  "cells": [
    {
      "cell_type": "markdown",
      "metadata": {
        "id": "view-in-github",
        "colab_type": "text"
      },
      "source": [
        "<a href=\"https://colab.research.google.com/github/yuchi822/TKU-AI-411630303/blob/main/Untitled0.ipynb\" target=\"_parent\"><img src=\"https://colab.research.google.com/assets/colab-badge.svg\" alt=\"Open In Colab\"/></a>"
      ]
    },
    {
      "cell_type": "code",
      "execution_count": 1,
      "metadata": {
        "id": "SF_9ERIskmdk"
      },
      "outputs": [],
      "source": [
        "import matplotlib.pyplot as plt # 繪圖函式庫"
      ]
    },
    {
      "cell_type": "code",
      "source": [
        "#繪製(黃)色x標記\n",
        "plt.plot([9,9.2,9.6,7.5,6.7,7],[9.4,9.2,9.2,9.2,7.1,7.4],'yx')\n",
        "plt.plot([9,9.2,9.6,7.5,6.7,7],[9.4,9.2,9.2,9.2,7.1,7.4],'yx')\n",
        "#繪製(綠)色x標記\n",
        "plt.plot([7.2,7.3,7.2,7.3,7.2,7.3,7.3],[10.3,10.5,9.2,10.2,9.7,10.1,10.1],'gx')\n",
        "plt.plot([6.5,9.0],[7.8,12.5],'b--') # 繪製黑色虛線\n",
        "plt.ylabel('H cm') #設定顯示Y文字\n",
        "plt.xlabel('W cm') #設定顯示X文字\n",
        "\n",
        "#繪製圖表\n",
        "plt.legend(('Orange','Lemons'),loc='upper right')\n",
        "plt.show()"
      ],
      "metadata": {
        "colab": {
          "base_uri": "https://localhost:8080/",
          "height": 279
        },
        "id": "A5pI9fcEsK85",
        "outputId": "7f2ea29b-3df7-41f7-b5df-a7356e4a6ad3"
      },
      "execution_count": 2,
      "outputs": [
        {
          "output_type": "display_data",
          "data": {
            "text/plain": [
              "<Figure size 432x288 with 1 Axes>"
            ],
            "image/png": "[encoded data removed]"
          },
          "metadata": {
            "needs_background": "light"
          }
        }
      ]
    }
  ]
}